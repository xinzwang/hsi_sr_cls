{
 "cells": [
  {
   "cell_type": "code",
   "execution_count": 1,
   "metadata": {},
   "outputs": [],
   "source": [
    "import os\n",
    "import sys\n",
    "import numpy as np\n",
    "import torch\n",
    "from matplotlib import pyplot as plt\n",
    "# sys.path.append('../../')\n",
    "from utils.dataset import build_dataset"
   ]
  },
  {
   "cell_type": "code",
   "execution_count": null,
   "metadata": {},
   "outputs": [],
   "source": []
  },
  {
   "cell_type": "code",
   "execution_count": 5,
   "metadata": {},
   "outputs": [],
   "source": [
    "# Pavia\n",
    "pavia_train_path = '/data2/wangxinzhe/codes/datasets/Pavia/sr/train_x420_y230_N256.npy'\n",
    "pavia_test_path = '/data2/wangxinzhe/codes/datasets/Pavia/sr/test_x420_y230_N256.npy'\n",
    "\n",
    "dataset, dataloader = build_dataset(\n",
    "\tdataset='Pavia', \n",
    "\tpath=pavia_train_path, \n",
    "\tbatch_size=4, \n",
    "\tscale_factor=2, \n",
    "\ttest_flag=False)\n",
    "test_dataset, test_dataloader = build_dataset(\n",
    "\tdataset='Pavia', \n",
    "\tpath=pavia_test_path, \n",
    "\tbatch_size=1, \n",
    "\tscale_factor=2, \n",
    "\ttest_flag=True)"
   ]
  },
  {
   "cell_type": "code",
   "execution_count": null,
   "metadata": {},
   "outputs": [],
   "source": []
  }
 ],
 "metadata": {
  "kernelspec": {
   "display_name": "Python 3.9.7 ('base')",
   "language": "python",
   "name": "python3"
  },
  "language_info": {
   "codemirror_mode": {
    "name": "ipython",
    "version": 3
   },
   "file_extension": ".py",
   "mimetype": "text/x-python",
   "name": "python",
   "nbconvert_exporter": "python",
   "pygments_lexer": "ipython3",
   "version": "3.9.7"
  },
  "orig_nbformat": 4,
  "vscode": {
   "interpreter": {
    "hash": "09387070529162d9c5c69de2a71707bd147c9356139c0e99b8b0aeb39c173db0"
   }
  }
 },
 "nbformat": 4,
 "nbformat_minor": 2
}
